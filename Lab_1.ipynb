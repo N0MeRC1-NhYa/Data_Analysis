{
 "cells": [
  {
   "cell_type": "markdown",
   "id": "1315bf7c",
   "metadata": {},
   "source": [
    "First task is described here: https://colab.research.google.com/drive/1Bw5e-vMOkMScuA397O9zslNz8rhELGjq?usp=sharing"
   ]
  },
  {
   "cell_type": "markdown",
   "id": "c6aadc21",
   "metadata": {},
   "source": [
    "Part of code to get all pages from \"https://itmo.ru/ru/personlist/\""
   ]
  },
  {
   "cell_type": "code",
   "execution_count": 56,
   "id": "d2514fd1",
   "metadata": {},
   "outputs": [
    {
     "name": "stdout",
     "output_type": "stream",
     "text": [
      "Loading data from ITMO website: 100%\n",
      "Amount of articles:900\n"
     ]
    }
   ],
   "source": [
    "from bs4 import BeautifulSoup as bs\n",
    "import requests\n",
    "import sys\n",
    "\n",
    "url = \"https://itmo.ru/ru/personlist/\"\n",
    "\n",
    "all_articles = []\n",
    "left = 192\n",
    "right = 225\n",
    "\n",
    "for i in range(left, right):\n",
    "    \n",
    "    additional_url = str(i) + \"/letter_\" + str(i) + \".htm\"\n",
    "    page = bs(requests.get(url + additional_url).text,\"html.parser\")\n",
    "    \n",
    "    articles = page.findAll(\"a\", {\"class\": \"contact-pad\"})\n",
    "    all_articles += articles\n",
    "    \n",
    "    sys.stdout.write(\"\\rLoading data from ITMO website: \" + str(int((i - 191)/(right - left) * 100)) + \"%\") \n",
    "    sys.stdout.flush()\n",
    "    \n",
    "\n",
    "all_articles = set(all_articles)\n",
    "print(\"\\nAmount of articles:\" + str(len(all_articles)))\n",
    "\n"
   ]
  },
  {
   "cell_type": "markdown",
   "id": "73d99cbc",
   "metadata": {},
   "source": [
    "Class for keeping all the usefull employee information"
   ]
  },
  {
   "cell_type": "code",
   "execution_count": 41,
   "id": "4cf06418",
   "metadata": {},
   "outputs": [],
   "source": [
    "class Employee():\n",
    "    \n",
    "    def __init__(self, name, pub, jobs_list, degree_list):\n",
    "        self.name = name\n",
    "        self.publications = pub\n",
    "        self.jobs = jobs_list\n",
    "        self.degree = degree_list\n",
    "    def __str__(self):\n",
    "        return f\"\\nName: {self.name} \\nJobs:{self.jobs} \\nDegree:{self.degree} \\nPublications amount:{self.publications}\"        "
   ]
  },
  {
   "cell_type": "markdown",
   "id": "4ed45f8f",
   "metadata": {},
   "source": [
    "Part of code where we take data from personal page of each employee"
   ]
  },
  {
   "cell_type": "code",
   "execution_count": 42,
   "id": "0719ed3d",
   "metadata": {},
   "outputs": [
    {
     "name": "stdout",
     "output_type": "stream",
     "text": [
      "Loading data from each ITMO employee: 100%"
     ]
    }
   ],
   "source": [
    "import re\n",
    "all_persons_data = []\n",
    "cnt = 1\n",
    "\n",
    "for article in all_articles:\n",
    "    per_page = bs(requests.get(\"https://itmo.ru\" + article['href']).text, 'html.parser')\n",
    "    \n",
    "    name = per_page.find(\"h1\", {\"class\" : \"page-header\"}).find(\"span\").text\n",
    "    person_info = per_page.find(\"div\", {\"class\" : \"c-personCard-details\"})\n",
    "    publications = per_page.find(\"ul\", {\"class\": \"nav nav-tabs\"}) \n",
    "    \n",
    "    try:\n",
    "        publications = int(publications.find(\"span\", {\"class\":\"badge\"}).text)\n",
    "    except AttributeError :\n",
    "        publications = 0\n",
    "    \n",
    "    degree, jobs = person_info.findAll(\"dl\")\n",
    "    \n",
    "    try:\n",
    "        degree = degree.find(\"dd\").text\n",
    "    except AttributeError:\n",
    "        degree = \"\"\n",
    "    \n",
    "    raw_jobs = str(jobs.find(\"dd\"))\n",
    "    raw_jobs = re.sub(\"\\<.?[ad]+[ 0-9a-z\\\"\\=\\/\\_\\.\\-]*\\>\",\"\",raw_jobs)\n",
    "    jobs = raw_jobs.strip().split(\"<br/>\")[:-1]\n",
    "    \n",
    "    emp = Employee(name, publications, jobs, degree)\n",
    "    all_persons_data.append(emp)\n",
    "    \n",
    "    cnt += 1\n",
    "    \n",
    "    sys.stdout.write(\"\\rLoading data from each ITMO employee: \" + str(int(cnt / len(all_articles) * 100)) + \"%\") \n",
    "    sys.stdout.flush()"
   ]
  },
  {
   "cell_type": "markdown",
   "id": "39add59a",
   "metadata": {},
   "source": [
    "Answering the first 4 questions of lab"
   ]
  },
  {
   "cell_type": "code",
   "execution_count": 53,
   "id": "72050978",
   "metadata": {},
   "outputs": [
    {
     "name": "stdout",
     "output_type": "stream",
     "text": [
      "People with 2 or more jobs:\n",
      "378\n",
      "People with max jobs:\n",
      "['Ковалев Антон Владимирович', 'Сантьев Алексей Альбертович', 'Бухановский Александр Валерьевич', 'Егоров Владимир Ильич', 'Луценко Анна Евгеньевна', 'Андреев Юрий Сергеевич', 'Ульянцев Владимир Игоревич']\n",
      "job streak - 5\n",
      "People with academic degree:\n",
      "438\n",
      "All available academic degrees:\n",
      "{'кандидат социологических наук', 'доктор физико-математических наук', 'кандидат географических наук', 'кандидат физико-математических наук', 'медико-биологические науки', 'кандидат философских наук', 'кандидат культурологии', 'технические науки', 'кандидат психологических наук', 'кандидат архитектуры', 'философские науки', 'старший научный сотрудник', 'phd', 'кандидат филологических наук', 'кандидат педагогических наук', 'кандидат медицинских наук', 'доцент', 'кандидат экономических наук', 'доктор технических наук', 'физико-математические науки', 'кандидат химических наук', 'доктор химических наук', 'профессор', 'кандидат технических наук', 'кандидат биологических наук', 'кандидат исторических наук'}\n"
     ]
    }
   ],
   "source": [
    "names_with_max = []\n",
    "two_jobs_or_more = []\n",
    "degree_set = set()\n",
    "\n",
    "max_jobs = 0\n",
    "degree_counter = 0\n",
    "\n",
    "print(\"Amount of people with 2 or more jobs:\")\n",
    "for employee in all_persons_data:\n",
    "    \n",
    "    if len(employee.jobs) >= 2:\n",
    "        two_jobs_or_more.append(employee.name)\n",
    "        \n",
    "    if len(employee.jobs) > max_jobs:\n",
    "        max_jobs = len(employee.jobs)\n",
    "        names_with_max = []\n",
    "        \n",
    "    if len(employee.jobs) == max_jobs:\n",
    "        names_with_max.append(employee.name)\n",
    "        \n",
    "    if len(employee.degree) != 0:\n",
    "        degree_counter += 1\n",
    "        \n",
    "    for degree in employee.degree.lower().split(\",\"):\n",
    "        degree_set.add(degree.strip())\n",
    "        \n",
    "degree_set.remove(\"\")\n",
    "print(len(two_jobs_or_more))\n",
    "\n",
    "print(f\"People with max jobs:\\n{name_with_max}\\njob streak - {max_jobs}\")\n",
    "print(f\"People with academic degree:\\n{degree_counter}\")\n",
    "print(f\"All available academic degrees:\\n{degree_set}\")"
   ]
  },
  {
   "cell_type": "markdown",
   "id": "04dfa4dd",
   "metadata": {},
   "source": [
    "The 5th question"
   ]
  },
  {
   "cell_type": "code",
   "execution_count": 44,
   "id": "58cd4a80",
   "metadata": {},
   "outputs": [
    {
     "data": {
      "image/png": "[encoded data removed]",
      "text/plain": [
       "<Figure size 1080x360 with 1 Axes>"
      ]
     },
     "metadata": {
      "needs_background": "light"
     },
     "output_type": "display_data"
    }
   ],
   "source": [
    "import matplotlib.pyplot as plt\n",
    "import random\n",
    "\n",
    "x = range(len(all_persons_data))\n",
    "y = []\n",
    "current_publications = 0\n",
    "\n",
    "for employee in all_persons_data:\n",
    "    \n",
    "    current_publications += employee.publications\n",
    "    y.append(current_publications)\n",
    "    \n",
    "plt.rcParams[\"figure.figsize\"] = 15,7\n",
    "plt.plot(x, y, \"b\")\n",
    "plt.show()"
   ]
  },
  {
   "cell_type": "markdown",
   "id": "ba4016fa",
   "metadata": {},
   "source": [
    "THe 6th question"
   ]
  },
  {
   "cell_type": "code",
   "execution_count": 55,
   "id": "1b6d4c7d",
   "metadata": {},
   "outputs": [
    {
     "data": {
      "image/png": "[encoded data removed]",
      "text/plain": [
       "<Figure size 1080x504 with 1 Axes>"
      ]
     },
     "metadata": {
      "needs_background": "light"
     },
     "output_type": "display_data"
    }
   ],
   "source": [
    "for employee in all_persons_data:\n",
    "    \n",
    "    if employee.degree != \"\":\n",
    "        plt.scatter(random.random(), employee.publications, c = \"g\")\n",
    "        \n",
    "    elif employee.publications != 0:\n",
    "        plt.scatter(random.random(), employee.publications, c = \"r\")\n",
    "        \n",
    "plt.xlabel(\"Random num\")\n",
    "plt.ylabel(\"Publications amount\")\n",
    "plt.show()"
   ]
  },
  {
   "cell_type": "code",
   "execution_count": null,
   "id": "0efaedd6",
   "metadata": {},
   "outputs": [],
   "source": []
  },
  {
   "cell_type": "code",
   "execution_count": null,
   "id": "5b378fed",
   "metadata": {},
   "outputs": [],
   "source": []
  }
 ],
 "metadata": {
  "kernelspec": {
   "display_name": "Python 3 (ipykernel)",
   "language": "python",
   "name": "python3"
  },
  "language_info": {
   "codemirror_mode": {
    "name": "ipython",
    "version": 3
   },
   "file_extension": ".py",
   "mimetype": "text/x-python",
   "name": "python",
   "nbconvert_exporter": "python",
   "pygments_lexer": "ipython3",
   "version": "3.9.10"
  }
 },
 "nbformat": 4,
 "nbformat_minor": 5
}
